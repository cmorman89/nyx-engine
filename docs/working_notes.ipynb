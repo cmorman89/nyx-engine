{
 "cells": [
  {
   "cell_type": "markdown",
   "metadata": {},
   "source": [
    "## Æther Composition Priority\n",
    "| z-index | Group | Item(s) |\n",
    "| --- | --- | --- |\n",
    "| 0 | Background | Background color |\n",
    "| 1 | Background | Tilemap |\n",
    "| 2 | Interaction | Non-player sprites |\n",
    "| 3 | Interaction | Player sprite |\n",
    "| 4 | Interaction | Projectiles |\n",
    "| 5 | Effects | Visual effects |\n",
    "| 6 | Overlay | UI |\n"
   ]
  },
  {
   "cell_type": "markdown",
   "metadata": {},
   "source": [
    "## Steps:"
   ]
  },
  {
   "cell_type": "markdown",
   "metadata": {
    "vscode": {
     "languageId": "plaintext"
    }
   },
   "source": [
    "### Layer 0: Background \n",
    "---\n",
    "- **Goal: Print a solid color background to the terminal display.**\n",
    "  - [x] Print a single color to the terminal.\n",
    "  - [x] Fills the terminal by default.\n",
    "  - [ ] ~~Never exceeds terminal bounds~~\n",
    "  - [x] Can be resized smaller than the terminal\n",
    "  - [x] Use 256-color extended ANSI codes.\n",
    "  - [x] Keep a `term_utils.py` module for common terminal operations.\n",
    "- **Classes Needed**\n",
    "  - [x] NyxEntity\n",
    "  - [x] NyxEntityManager\n",
    "  - [x] NyxComponentStore\n",
    "  - [x] NyxComponent (ABC)\n",
    "  - [x] BackgroundColorComponent\n",
    "  - [x] NyxSystem (ABC)\n",
    "  - [x] RendererSystem\n",
    "  - [x] AetherCompositor\n",
    "  - [x] HemeraRenderer\n",
    "\n",
    "- After a few trials, working up through the composition layers seems the best way to approach the problem. \n",
    "- So far so good through the `NyxSystem` class. Next is working on rendering collection.\n",
    "- Render system collects and sends the prioritized entity dict to Aether\n",
    "- Basic HemeraRenderer created, rendering a pixel to the screen\n",
    "\n",
    "Next: Aether -> Hemera"
   ]
  },
  {
   "cell_type": "markdown",
   "metadata": {},
   "source": [
    "### Layer 1: Tilemap \n",
    "---\n",
    "- **Goal**\n",
    "  - [x] Print an array of tiles to the terminal\n",
    "  - [x] Fill zeros with bg color\n",
    "  - [x] Cache/buffer tilemap after compute\n",
    "  - [x] Store tilemaps in a resource or store by ID\n",
    "- **Classes Needed**\n",
    "  - [x] TilesetStore\n",
    "  - [x] TilemapComponent\n",
    "  - [x] Tilemap\n",
    "  - [x] TilemapSystem\n",
    "  - [x] SceneComponent\n",
    "  - [x] PositionComponent\n",
    "\n",
    "- Decided to move `Store`-type dictionaries to class attributes for easy access. `TilesetStore` has been made with class attributes.\n",
    "- SceneComponent allows for a global container/flag\n",
    "- PositionComponent should allow for scrolling"
   ]
  },
  {
   "cell_type": "markdown",
   "metadata": {},
   "source": [
    "### 12/7/24 - Tag v0.0.1-alpha issued: \n",
    "---\n",
    "- Render a color frame to the terminal. Basic ECS -> Render -> Output "
   ]
  },
  {
   "cell_type": "markdown",
   "metadata": {},
   "source": [
    "### Intermediate Goal: .nyx file imports\n",
    "---\n",
    "- **Goal**\n",
    "  - [x] Allow importing .nyx assets from files. This is essentially an array that gets read and converted into an ndarray.\n",
    "\n",
    "- Working, though inherently insecure import module created. Will require significant hardening down the line, but works for the PoC stage of the program."
   ]
  },
  {
   "cell_type": "markdown",
   "metadata": {},
   "source": [
    "### Intermediate Goal: Subpixel Rendering\n",
    "---\n",
    "- **Goal**\n",
    "  - [x] Update HemeraTermFx to use subpixel drawing\n",
    "  - [x] Adjust the current calculations to match the doubled height resolution.\n",
    "  - [x] Print 256-color tilemap in subpixels to the terminal. \n",
    "\n",
    "- Used simple list iterations for the actual printing, for now.\n",
    "- Explore if its easier or faster to slice the ndarray before iterating."
   ]
  },
  {
   "cell_type": "markdown",
   "metadata": {},
   "source": [
    "### 12/8/24 - Tag v0.0.2-alpha issued:\n",
    "--- \n",
    "- Render a Tilemap to the terminal in color using subpixel rendering. "
   ]
  },
  {
   "cell_type": "markdown",
   "metadata": {},
   "source": [
    "### Intermediate Goal: Delta Framebuffer Rendering\n",
    "---\n",
    "- **Goal**\n",
    "  - [x] Update HemeraTermFx to generate a delta framebuffer of only changed pixels.\n",
    "  - [x] Sparcely print the delta framebuffer by skipping any unchanged pixels.\n",
    "  - [x] Ensure color data is not lost (ie, carry over unchanged subpixel color data if its paired counter part (bg if fg, fg if bg color) changes).\n",
    "  - [x] Uses stacked NumPy matrices (2, y, x) to track fg and bg color in x, y space.\n",
    "  - [x] Use `sys` module for printing.\n",
    "  - [x] Do not exceed terminal bounds when printing.\n",
    "\n",
    "- Some debugging nightmares occured with misaligned axes, cursor relocations inaccuracy, and lost subpixel color data. This was mainly due to reversed axis order in the 3D array as well as some other, minor errors. Tracing the anomalous printing patterns back to the errors was a significant undertaking given the inherent challenge in visualizing the data in ways outside of the rendering pipeline.\n",
    "- The 3D matrix is iterated as if it were a 2D matrix by creating a 2D index ndarray and then iterating that instead."
   ]
  },
  {
   "cell_type": "markdown",
   "metadata": {},
   "source": [
    "### Intermediate Goal: Refactoring and Docstrings\n",
    "---\n",
    "- **Goal**\n",
    "  - [x] Provide complete docstrings in every module.\n",
    "  - [x] Update file structure and naming.\n",
    "  - [x] Break up AetherRenderer in a main and multiple utility classes.\n",
    "  - [x] Create and update the changelog.\n",
    "  - [x] Update the readme.\n",
    "\n",
    "- Mostly involved clarifying variable names, enshrining workflow and process information, etc. Plus added the mythology sections to explain the naming scheme.\n",
    "- Nearly ready for first release (v0.0.3-alpha)"
   ]
  },
  {
   "cell_type": "markdown",
   "metadata": {},
   "source": [
    "### Layer 2: Nonplayer Sprites\n",
    "---\n",
    "- **Goal**\n",
    "  - [x] Create a sprite and place it in an x, y coordinate within the frame\n",
    "  - [x] Use `PositonComponent` to guide location\n",
    "  - [x] Ensure lower layers are visible in transparent areas of sprite (not overwritten)\n"
   ]
  },
  {
   "cell_type": "markdown",
   "metadata": {
    "tags": [
     "parameters"
    ]
   },
   "source": [
    "### Intermediate Goal: Terminal Printing Optimization\n",
    "---\n",
    "- **Goal**\n",
    "  - [x] Use line profiling to identify bottlenecks in the rendering pipeline.\n",
    "  - [x] Aggresively optimize the printing pipeline. \n",
    "\n",
    "- **Results**\n",
    "  \n",
    "  | Version | Total Time | Per Frame Time | FPS |\n",
    "  |--------|--------|--------|--------|\n",
    "  | **v0.1.1-alpha** | **4.64321 s** | **0.0141 s** | **70.9** |\n",
    "  | v0.1.0-alpha | 10.1012 s | 0.0307 s | 32.6 |\n",
    "  | v0.0.4-alpha | 40.4568 s | 0.1230 s | 8.1 |\n",
    "\n",
    "- **Notes**\n",
    "  - Unexpectedly, the bottleneck was not in the actual terminal printing, but in the string buffer generation.\n",
    "  - Optimization has taken the time to render 329 frames from 40.4568 seconds to 4.64321 seconds, a 88.5% reduction in time or a **10.9x** speedup in frame printing.\n",
    "    - Removed tuple generation within the loop\n",
    "    - Removed string concatenation within the loop\n",
    "    - Used a sum function to combine fg and bg color ints to check for changes in both colors while only fetching one value.\n",
    "    - The summed pixels are then summed into row sums, which are used to skip rows that have not changed.\n",
    "    - Split the sum array and the fg color arrays into separate arrays to allow for different data types.\n",
    "    - Use StringIO to buffer the string after accumulating the row strings.\n",
    "    - Only fetch fg color if first the row and then the pixel has changed.\n",
    "    - Use the sum and the fg color to compute the original bg color without having to fetch it from the array/memory.\n",
    "    - Ensured all variables are preallocated and precomputed before the loop, or at least instantiated outside of the loop.\n",
    "    - Generate and store two dictionaries at runtime to map the fg and bg colors to their respective full ANSI escape strings instead of generating them within the loop.\n"
   ]
  },
  {
   "cell_type": "markdown",
   "metadata": {},
   "source": [
    "### Intermediate Goal: Working Demo\n",
    "---\n",
    "- **Goal**\n",
    "  - [x] Create a working demo of the rendering/printing pipeline.\n",
    "  - [x] Allow for the easy printing of images, gifs, and videos to the terminal.\n",
    "  - [x] Import NPZ files for easy image loading.\n",
    "  - [ ] Create an easy conversion tool for images to NPZ files.\n",
    "  - [x] Create block letters for the terminal when zoomed out and the font is too small to read otherwise."
   ]
  }
 ],
 "metadata": {
  "kernelspec": {
   "display_name": ".venv",
   "language": "python",
   "name": "python3"
  },
  "language_info": {
   "codemirror_mode": {
    "name": "ipython",
    "version": 3
   },
   "file_extension": ".py",
   "mimetype": "text/x-python",
   "name": "python",
   "nbconvert_exporter": "python",
   "pygments_lexer": "ipython3",
   "version": "3.13.0"
  }
 },
 "nbformat": 4,
 "nbformat_minor": 2
}
