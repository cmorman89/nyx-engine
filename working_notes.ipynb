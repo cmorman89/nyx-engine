{
 "cells": [
  {
   "cell_type": "markdown",
   "metadata": {},
   "source": [
    "## Æther Composition Priority\n",
    "| z-index | Group | Item(s) |\n",
    "| --- | --- | --- |\n",
    "| 0 | Background | Background color |\n",
    "| 1 | Background | Tilemap |\n",
    "| 2 | Interaction | Non-player sprites |\n",
    "| 3 | Interaction | Player sprite |\n",
    "| 4 | Interaction | Projectiles |\n",
    "| 5 | Effects | Visual effects |\n",
    "| 6 | Overlay | UI |\n"
   ]
  },
  {
   "cell_type": "markdown",
   "metadata": {},
   "source": [
    "## Steps:"
   ]
  },
  {
   "cell_type": "markdown",
   "metadata": {
    "vscode": {
     "languageId": "plaintext"
    }
   },
   "source": [
    "### Layer 0: Background \n",
    "---\n",
    "- **Goal: Print a solid color background to the terminal display.**\n",
    "  - [x] Print a single color to the terminal.\n",
    "  - [x] Fills the terminal by default.\n",
    "  - [ ] ~~Never exceeds terminal bounds~~\n",
    "  - [x] Can be resized smaller than the terminal\n",
    "  - [x] Use 256-color extended ANSI codes.\n",
    "  - [x] Keep a `term_utils.py` module for common terminal operations.\n",
    "- **Classes Needed**\n",
    "  - [x] NyxEntity\n",
    "  - [x] NyxEntityManager\n",
    "  - [x] NyxComponentStore\n",
    "  - [x] NyxComponent (ABC)\n",
    "  - [x] BackgroundColorComponent\n",
    "  - [x] NyxSystem (ABC)\n",
    "  - [x] RendererSystem\n",
    "  - [x] AetherCompositor\n",
    "  - [x] HemeraRenderer\n",
    "\n",
    "- After a few trials, working up through the composition layers seems the best way to approach the problem. \n",
    "- So far so good through the `NyxSystem` class. Next is working on rendering collection.\n",
    "- Render system collects and sends the prioritized entity dict to Aether\n",
    "- Basic HemeraRenderer created, rendering a pixel to the screen\n",
    "\n",
    "Next: Aether -> Hemera"
   ]
  },
  {
   "cell_type": "markdown",
   "metadata": {},
   "source": [
    "### Layer 1: Tilemap \n",
    "---\n",
    "- **Goal**\n",
    "  - [x] Print an array of tiles to the terminal\n",
    "  - [x] Fill zeros with bg color\n",
    "  - [x] Cache/buffer tilemap after compute\n",
    "  - [x] Store tilemaps in a resource or store by ID\n",
    "- **Classes Needed**\n",
    "  - [x] TilesetStore\n",
    "  - [x] TilemapComponent\n",
    "  - [x] Tilemap\n",
    "  - [x] TilemapSystem\n",
    "  - [x] SceneComponent\n",
    "  - [x] PositionComponent\n",
    "\n",
    "- Decided to move `Store`-type dictionaries to class attributes for easy access. `TilesetStore` has been made with class attributes.\n",
    "- SceneComponent allows for a global container/flag\n",
    "- PositionComponent should allow for scrolling"
   ]
  },
  {
   "cell_type": "markdown",
   "metadata": {},
   "source": [
    "### Intermediate Goal: Subpixel Rendering\n",
    "---\n",
    "- **Goal**\n",
    "  - [x] Update HemeraTermFx to use subpixel drawing\n",
    "  - [x] Adjust the current calculations to match the doubled height resolution.\n",
    "  - [x] Print 256-color tilemap in subpixels to the terminal. \n",
    "\n",
    "- Used simple list iterations for the actual printing, for now.\n",
    "- Explore if its easier or faster to slice the ndarray before iterating."
   ]
  },
  {
   "cell_type": "markdown",
   "metadata": {},
   "source": []
  }
 ],
 "metadata": {
  "kernelspec": {
   "display_name": ".venv",
   "language": "python",
   "name": "python3"
  },
  "language_info": {
   "codemirror_mode": {
    "name": "ipython",
    "version": 3
   },
   "file_extension": ".py",
   "mimetype": "text/x-python",
   "name": "python",
   "nbconvert_exporter": "python",
   "pygments_lexer": "ipython3",
   "version": "3.13.0"
  }
 },
 "nbformat": 4,
 "nbformat_minor": 2
}
