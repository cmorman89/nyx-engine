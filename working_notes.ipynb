{
 "cells": [
  {
   "cell_type": "markdown",
   "metadata": {},
   "source": [
    "## Æther Composition Priority\n",
    "| z-index | Group | Item(s) |\n",
    "| --- | --- | --- |\n",
    "| 0 | Background | Background color |\n",
    "| 1 | Background | Tilemap |\n",
    "| 2 | Interaction | Non-player sprites |\n",
    "| 3 | Interaction | Player sprite |\n",
    "| 4 | Interaction | Projectiles |\n",
    "| 5 | Effects | Visual effects |\n",
    "| 6 | Overlay | UI |\n"
   ]
  },
  {
   "cell_type": "markdown",
   "metadata": {},
   "source": [
    "## Steps:"
   ]
  },
  {
   "cell_type": "markdown",
   "metadata": {
    "vscode": {
     "languageId": "plaintext"
    }
   },
   "source": [
    "### Layer 0: Background \n",
    "---\n",
    "- **Goal: Print a solid color background to the terminal display.**\n",
    "  - [x] Print a single color to the terminal.\n",
    "  - [x] Fills the terminal by default.\n",
    "  - [ ] ~~Never exceeds terminal bounds~~\n",
    "  - [x] Can be resized smaller than the terminal\n",
    "  - [x] Use 256-color extended ANSI codes.\n",
    "  - [x] Keep a `term_utils.py` module for common terminal operations.\n",
    "- **Classes Needed**\n",
    "  - [x] NyxEntity\n",
    "  - [x] NyxEntityManager\n",
    "  - [x] NyxComponentStore\n",
    "  - [x] NyxComponent (ABC)\n",
    "  - [x] BackgroundColorComponent\n",
    "  - [x] NyxSystem (ABC)\n",
    "  - [x] RendererSystem\n",
    "  - [x] AetherCompositor\n",
    "  - [x] HemeraRenderer\n",
    "\n",
    "- After a few trials, working up through the composition layers seems the best way to approach the problem. \n",
    "- So far so good through the `NyxSystem` class. Next is working on rendering collection.\n",
    "- Render system collects and sends the prioritized entity dict to Aether\n",
    "- Basic HemeraRenderer created, rendering a pixel to the screen\n",
    "\n",
    "Next: Aether -> Hemera"
   ]
  },
  {
   "cell_type": "markdown",
   "metadata": {},
   "source": [
    "### Layer 1: Tilemap \n",
    "---\n",
    "- **Goal**\n",
    "  - [x] Print an array of tiles to the terminal\n",
    "  - [x] Fill zeros with bg color\n",
    "  - [x] Cache/buffer tilemap after compute\n",
    "  - [x] Store tilemaps in a resource or store by ID\n",
    "- **Classes Needed**\n",
    "  - [x] TilesetStore\n",
    "  - [x] TilemapComponent\n",
    "  - [x] Tilemap\n",
    "  - [x] TilemapSystem\n",
    "  - [x] SceneComponent\n",
    "  - [x] PositionComponent\n",
    "\n",
    "- Decided to move `Store`-type dictionaries to class attributes for easy access. `TilesetStore` has been made with class attributes.\n",
    "- SceneComponent allows for a global container/flag\n",
    "- PositionComponent should allow for scrolling"
   ]
  },
  {
   "cell_type": "markdown",
   "metadata": {},
   "source": [
    "### Intermediate Goal: Subpixel Rendering\n",
    "---\n",
    "- **Goal**\n",
    "  - [x] Update HemeraTermFx to use subpixel drawing\n",
    "  - [x] Adjust the current calculations to match the doubled height resolution.\n",
    "  - [x] Print 256-color tilemap in subpixels to the terminal. \n",
    "\n",
    "- Used simple list iterations for the actual printing, for now.\n",
    "- Explore if its easier or faster to slice the ndarray before iterating."
   ]
  },
  {
   "cell_type": "markdown",
   "metadata": {},
   "source": []
  },
  {
   "cell_type": "code",
   "execution_count": null,
   "metadata": {},
   "outputs": [
    {
     "name": "stdout",
     "output_type": "stream",
     "text": [
      "[[1 0 0 0 0 0 0 0 0 0]\n",
      " [0 1 0 0 0 0 0 0 0 0]\n",
      " [0 0 1 0 0 0 0 0 0 0]\n",
      " [0 0 0 1 0 0 0 0 0 0]\n",
      " [0 0 0 0 1 0 0 0 0 0]\n",
      " [0 0 0 0 0 1 0 0 0 0]\n",
      " [0 0 0 0 0 0 1 0 0 0]\n",
      " [0 0 0 0 0 0 0 1 0 0]\n",
      " [0 0 0 0 0 0 0 0 1 0]\n",
      " [0 0 0 0 0 0 0 0 0 1]]\n",
      "[[0 1 1 1 1 1 1 1 1 1]\n",
      " [1 0 1 1 1 1 1 1 1 1]\n",
      " [1 1 0 1 1 1 1 1 1 1]\n",
      " [1 1 1 0 1 1 1 1 1 1]\n",
      " [1 1 1 1 0 1 1 1 1 1]\n",
      " [1 1 1 1 1 0 1 1 1 1]\n",
      " [1 1 1 1 1 1 0 1 1 1]\n",
      " [1 1 1 1 1 1 1 0 1 1]\n",
      " [1 1 1 1 1 1 1 1 0 1]\n",
      " [1 1 1 1 1 1 1 1 1 0]]\n"
     ]
    }
   ],
   "source": [
    "import numpy as np\n",
    "\n",
    "new_subpixel_frame = np.ones((10, 10), dtype=np.uint8)\n",
    "old_frame = np.eye(10, dtype=np.uint8)\n",
    "delta_buffer = np.where(new_subpixel_frame != old_frame, new_subpixel_frame, 0)\n",
    "\n",
    "print(old_frame)\n",
    "print(delta_buffer)\n"
   ]
  },
  {
   "cell_type": "code",
   "execution_count": 93,
   "metadata": {},
   "outputs": [
    {
     "name": "stdout",
     "output_type": "stream",
     "text": [
      "[[[ 0  1  2  3  4]\n",
      "  [10  0 12 13 14]\n",
      "  [20 21  0 23 24]\n",
      "  [30 31 32  0 34]\n",
      "  [40 41 42 43  0]]\n",
      "\n",
      " [[ 0  6  7  8  9]\n",
      "  [15  0 17 18 19]\n",
      "  [25 26  0 28 29]\n",
      "  [35 36 37  0 39]\n",
      "  [45 46 47 48  0]]]\n",
      "Changed = False\n"
     ]
    }
   ],
   "source": [
    "# Subpixel and Delta testing\n",
    "import numpy as np\n",
    "\n",
    "old_frame = np.array([\n",
    "    [0 for _ in range(5)],  # fg color\n",
    "    [5 for _ in range(5)],  # bg color\n",
    "    [11 for _ in range(5)], # fg color\n",
    "    [16 for _ in range(5)], # bg color\n",
    "    [22 for _ in range(5)], # fg color\n",
    "    [27 for _ in range(5)], # bg color\n",
    "    [33 for _ in range(5)], # fg color\n",
    "    [38 for _ in range(5)], # bg color\n",
    "    [44 for _ in range(5)], # fg color\n",
    "    [49 for _ in range(5)], # bg color\n",
    "], dtype=np.uint8)\n",
    "\n",
    "new_frame = np.arange(50).reshape(10, 5) # Mock frame\n",
    "\n",
    "\n",
    "old_subpixel_frame = np.stack([old_frame[::2, :], old_frame[1::2, :]], axis=1) # split fg and bg to make 3d array\n",
    "new_subpixel_frame = np.stack([new_frame[::2, :], new_frame[1::2, :]], axis=1) # split fg and bg to make 3d array\n",
    "\n",
    "# Keep new_subpixel_frame fg & bg pixel at a given x, y index if EITHER fg OR bg color had changed from the same z-pair at the same x, y coordinates in the old_subpixel_frame\n",
    "# If both pairs are the same, replace with zeros\n",
    "\n",
    "delta_frame = np.where(\n",
    "    np.any(new_subpixel_frame != old_subpixel_frame, axis=1, keepdims=True),\n",
    "    new_subpixel_frame,\n",
    "    np.zeros_like(new_subpixel_frame)\n",
    ")\n",
    "print(delta_subpixel_frame)\n",
    "\n",
    "\n",
    "# Mock slice:\n",
    "old_frame_pair = np.array([16, 17])\n",
    "\n",
    "# Get subpixel pair = ([[16, 17]])\n",
    "new_frame_pair = new_subpixel_frame[1:2:, 1:2:, 1:3] \n",
    "\n",
    "# Compare. Returns True if ANY change\n",
    "changed = np.any(new_frame_pair != old_frame_pair)\n",
    "print(f\"Changed = {changed}\")"
   ]
  }
 ],
 "metadata": {
  "kernelspec": {
   "display_name": ".venv",
   "language": "python",
   "name": "python3"
  },
  "language_info": {
   "codemirror_mode": {
    "name": "ipython",
    "version": 3
   },
   "file_extension": ".py",
   "mimetype": "text/x-python",
   "name": "python",
   "nbconvert_exporter": "python",
   "pygments_lexer": "ipython3",
   "version": "3.13.0"
  }
 },
 "nbformat": 4,
 "nbformat_minor": 2
}
