{
 "cells": [
  {
   "cell_type": "markdown",
   "metadata": {},
   "source": [
    "## Æther Composition Priority\n",
    "| z-index | Group | Item(s) |\n",
    "| --- | --- | --- |\n",
    "| 0 | Background | Background color |\n",
    "| 1 | Background | Tilemap |\n",
    "| 2 | Interaction | Non-player sprites |\n",
    "| 3 | Interaction | Player sprite |\n",
    "| 4 | Interaction | Projectiles |\n",
    "| 5 | Effects | Visual effects |\n",
    "| 6 | Overlay | UI |\n"
   ]
  },
  {
   "cell_type": "markdown",
   "metadata": {},
   "source": [
    "## Steps:"
   ]
  },
  {
   "cell_type": "markdown",
   "metadata": {
    "vscode": {
     "languageId": "plaintext"
    }
   },
   "source": [
    "### Layer 0: Background \n",
    "---\n",
    "- **Goal: Print a solid color background to the terminal display.**\n",
    "  - [ ] Print a single color to the terminal.\n",
    "  - [ ] Fills the terminal by default.\n",
    "  - [ ] Never exceeds terminal bounds\n",
    "  - [ ] Can be resized smaller than the terminal\n",
    "  - [ ] Use 256-color extended ANSI codes.\n",
    "  - [ ] Keep a `term_utils.py` module for common terminal operations.\n",
    "- **Classes Needed**\n",
    "  - [x] NyxEntity\n",
    "  - [x] NyxEntityManager\n",
    "  - [x] NyxComponentStore\n",
    "  - [x] NyxComponent (ABC)\n",
    "  - [x] BackgroundColorComponent\n",
    "  - [x] NyxSystem (ABC)\n",
    "  - [x] RendererSystem\n",
    "  - [x] AetherCompositor\n",
    "  - [ ] HemeraRenderer\n",
    "\n",
    "- After a few trials, working up through the composition layers seems the best way to approach the problem. \n",
    "- So far so good through the `NyxSystem` class. Next is working on rendering collection.\n",
    "- Render system collects and sends the prioritized entity dict to Aether\n",
    "\n",
    "Next: Aether -> Hemera"
   ]
  },
  {
   "cell_type": "markdown",
   "metadata": {},
   "source": [
    "### Layer 1: Tilemap \n",
    "---\n",
    "- **Goal**\n",
    "- **Classes Needed**"
   ]
  },
  {
   "cell_type": "markdown",
   "metadata": {},
   "source": [
    "### Intermediate Goal: Subpixel Rendering\n",
    "---\n",
    "- **Goal**\n",
    "- **Classes Needed**\n",
    "- \n",
    "Implement this early, before lots and lots of math has to be updated."
   ]
  }
 ],
 "metadata": {
  "kernelspec": {
   "display_name": ".venv",
   "language": "python",
   "name": "python3"
  },
  "language_info": {
   "codemirror_mode": {
    "name": "ipython",
    "version": 3
   },
   "file_extension": ".py",
   "mimetype": "text/x-python",
   "name": "python",
   "nbconvert_exporter": "python",
   "pygments_lexer": "ipython3",
   "version": "3.10.12"
  }
 },
 "nbformat": 4,
 "nbformat_minor": 2
}
